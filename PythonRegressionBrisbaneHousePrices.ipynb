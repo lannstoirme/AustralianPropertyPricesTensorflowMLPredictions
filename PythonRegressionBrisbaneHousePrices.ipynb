{
  "nbformat": 4,
  "nbformat_minor": 0,
  "metadata": {
    "colab": {
      "name": "PythonRegressionBrisbaneHousePrices.ipynb",
      "provenance": [],
      "collapsed_sections": []
    },
    "kernelspec": {
      "name": "python3",
      "display_name": "Python 3"
    }
  },
  "cells": [
    {
      "cell_type": "code",
      "metadata": {
        "id": "cXdTHhYp-bMN",
        "colab_type": "code",
        "colab": {}
      },
      "source": [
        "import pandas as pd\n",
        "import numpy as np\n"
      ],
      "execution_count": 0,
      "outputs": []
    },
    {
      "cell_type": "code",
      "metadata": {
        "id": "gi8pPrjm03vm",
        "colab_type": "code",
        "colab": {}
      },
      "source": [
        ""
      ],
      "execution_count": 0,
      "outputs": []
    },
    {
      "cell_type": "code",
      "metadata": {
        "id": "VVFZB2w-VbF_",
        "colab_type": "code",
        "outputId": "a3ddb173-b8a5-4f21-d1d1-906e0b5adac1",
        "colab": {
          "base_uri": "https://localhost:8080/",
          "height": 63
        }
      },
      "source": [
        "import tensorflow as tf"
      ],
      "execution_count": 0,
      "outputs": [
        {
          "output_type": "display_data",
          "data": {
            "text/html": [
              "<p style=\"color: red;\">\n",
              "The default version of TensorFlow in Colab will soon switch to TensorFlow 2.x.<br>\n",
              "We recommend you <a href=\"https://www.tensorflow.org/guide/migrate\" target=\"_blank\">upgrade</a> now \n",
              "or ensure your notebook will continue to use TensorFlow 1.x via the <code>%tensorflow_version 1.x</code> magic:\n",
              "<a href=\"https://colab.research.google.com/notebooks/tensorflow_version.ipynb\" target=\"_blank\">more info</a>.</p>\n"
            ],
            "text/plain": [
              "<IPython.core.display.HTML object>"
            ]
          },
          "metadata": {
            "tags": []
          }
        }
      ]
    },
    {
      "cell_type": "code",
      "metadata": {
        "id": "C2XFekIzVegP",
        "colab_type": "code",
        "colab": {}
      },
      "source": [
        "property = pd.read_csv('https://raw.githubusercontent.com/lannstoirme/AustralianPropertyPricesTensorflowMLPredictions/master/RES_PROP_INDEX_14112019113124265.csv')"
      ],
      "execution_count": 0,
      "outputs": []
    },
    {
      "cell_type": "markdown",
      "metadata": {
        "id": "Q_hhWSImWDY5",
        "colab_type": "text"
      },
      "source": [
        "# Property Price Index: \n",
        "A house price index (HPI) measures the price changes of residential housing as a percentage change from some specific start date (which has HPI of 100). Methodologies commonly used to calculate a HPI are the hedonic regression (HR), simple moving average (SMA) and repeat-sales regression (RSR). (From Wikipedia [Link Here](https://https://en.wikipedia.org/wiki/House_price_index))\n",
        "\n",
        "This Notebook uses Tensorflow to predict the price index for a given future time period. The data is sourced from the [ABS website](https://https://data.gov.au/data/dataset/7f7dddc3-c74e-4527-bb62-62c644554e23). It measures the HPI of properties for 8 major Australian cities. \n"
      ]
    },
    {
      "cell_type": "code",
      "metadata": {
        "id": "0Rdc2rXLWzDf",
        "colab_type": "code",
        "outputId": "c6025b6c-a19d-4e11-d737-b266eb290a1e",
        "colab": {
          "base_uri": "https://localhost:8080/",
          "height": 306
        }
      },
      "source": [
        "property.head()"
      ],
      "execution_count": 0,
      "outputs": [
        {
          "output_type": "execute_result",
          "data": {
            "text/html": [
              "<div>\n",
              "<style scoped>\n",
              "    .dataframe tbody tr th:only-of-type {\n",
              "        vertical-align: middle;\n",
              "    }\n",
              "\n",
              "    .dataframe tbody tr th {\n",
              "        vertical-align: top;\n",
              "    }\n",
              "\n",
              "    .dataframe thead th {\n",
              "        text-align: right;\n",
              "    }\n",
              "</style>\n",
              "<table border=\"1\" class=\"dataframe\">\n",
              "  <thead>\n",
              "    <tr style=\"text-align: right;\">\n",
              "      <th></th>\n",
              "      <th>MEASURE</th>\n",
              "      <th>Measure</th>\n",
              "      <th>PROP_TYPE</th>\n",
              "      <th>Property type</th>\n",
              "      <th>ASGS_2011</th>\n",
              "      <th>Region</th>\n",
              "      <th>FREQUENCY</th>\n",
              "      <th>Frequency</th>\n",
              "      <th>TIME</th>\n",
              "      <th>Time</th>\n",
              "      <th>Value</th>\n",
              "      <th>Flag Codes</th>\n",
              "      <th>Flags</th>\n",
              "    </tr>\n",
              "  </thead>\n",
              "  <tbody>\n",
              "    <tr>\n",
              "      <th>0</th>\n",
              "      <td>3</td>\n",
              "      <td>Percentage change from corresponding quarter o...</td>\n",
              "      <td>3</td>\n",
              "      <td>Residential property</td>\n",
              "      <td>2GMEL</td>\n",
              "      <td>Greater Melbourne</td>\n",
              "      <td>Q</td>\n",
              "      <td>Quarterly</td>\n",
              "      <td>2017-Q3</td>\n",
              "      <td>Sep-2017</td>\n",
              "      <td>13.2</td>\n",
              "      <td>NaN</td>\n",
              "      <td>NaN</td>\n",
              "    </tr>\n",
              "    <tr>\n",
              "      <th>1</th>\n",
              "      <td>3</td>\n",
              "      <td>Percentage change from corresponding quarter o...</td>\n",
              "      <td>3</td>\n",
              "      <td>Residential property</td>\n",
              "      <td>2GMEL</td>\n",
              "      <td>Greater Melbourne</td>\n",
              "      <td>Q</td>\n",
              "      <td>Quarterly</td>\n",
              "      <td>2017-Q4</td>\n",
              "      <td>Dec-2017</td>\n",
              "      <td>10.2</td>\n",
              "      <td>NaN</td>\n",
              "      <td>NaN</td>\n",
              "    </tr>\n",
              "    <tr>\n",
              "      <th>2</th>\n",
              "      <td>3</td>\n",
              "      <td>Percentage change from corresponding quarter o...</td>\n",
              "      <td>3</td>\n",
              "      <td>Residential property</td>\n",
              "      <td>2GMEL</td>\n",
              "      <td>Greater Melbourne</td>\n",
              "      <td>Q</td>\n",
              "      <td>Quarterly</td>\n",
              "      <td>2018-Q1</td>\n",
              "      <td>Mar-2018</td>\n",
              "      <td>6.2</td>\n",
              "      <td>NaN</td>\n",
              "      <td>NaN</td>\n",
              "    </tr>\n",
              "    <tr>\n",
              "      <th>3</th>\n",
              "      <td>3</td>\n",
              "      <td>Percentage change from corresponding quarter o...</td>\n",
              "      <td>3</td>\n",
              "      <td>Residential property</td>\n",
              "      <td>2GMEL</td>\n",
              "      <td>Greater Melbourne</td>\n",
              "      <td>Q</td>\n",
              "      <td>Quarterly</td>\n",
              "      <td>2018-Q2</td>\n",
              "      <td>Jun-2018</td>\n",
              "      <td>2.3</td>\n",
              "      <td>NaN</td>\n",
              "      <td>NaN</td>\n",
              "    </tr>\n",
              "    <tr>\n",
              "      <th>4</th>\n",
              "      <td>3</td>\n",
              "      <td>Percentage change from corresponding quarter o...</td>\n",
              "      <td>3</td>\n",
              "      <td>Residential property</td>\n",
              "      <td>2GMEL</td>\n",
              "      <td>Greater Melbourne</td>\n",
              "      <td>Q</td>\n",
              "      <td>Quarterly</td>\n",
              "      <td>2018-Q3</td>\n",
              "      <td>Sep-2018</td>\n",
              "      <td>-1.5</td>\n",
              "      <td>NaN</td>\n",
              "      <td>NaN</td>\n",
              "    </tr>\n",
              "  </tbody>\n",
              "</table>\n",
              "</div>"
            ],
            "text/plain": [
              "   MEASURE  ... Flags\n",
              "0        3  ...   NaN\n",
              "1        3  ...   NaN\n",
              "2        3  ...   NaN\n",
              "3        3  ...   NaN\n",
              "4        3  ...   NaN\n",
              "\n",
              "[5 rows x 13 columns]"
            ]
          },
          "metadata": {
            "tags": []
          },
          "execution_count": 5
        }
      ]
    },
    {
      "cell_type": "markdown",
      "metadata": {
        "id": "DvTt77JAXtIc",
        "colab_type": "text"
      },
      "source": [
        "# Brisbane Housing Market\n",
        "\n",
        "This prediction will focus on the Brisbane Housing Market over the next five years as opposed to the growth in the rest of the Australian market, so an aggregate of general Australian housing markets will be prepared, so this will give pragmatic scope to this data; how does purchasing property in Brisbane as opposed to Australia in general fare? "
      ]
    },
    {
      "cell_type": "code",
      "metadata": {
        "id": "RVyK50W5YQzQ",
        "colab_type": "code",
        "colab": {}
      },
      "source": [
        "brisbane_property = pd.read_csv('https://raw.githubusercontent.com/lannstoirme/AustralianPropertyPricesTensorflowMLPredictions/master/RES_PROP_INDEX_14112019115047733.csv')"
      ],
      "execution_count": 0,
      "outputs": []
    },
    {
      "cell_type": "code",
      "metadata": {
        "id": "VuLNcbWmZhUg",
        "colab_type": "code",
        "outputId": "5ec2cf8b-aaea-497d-d08b-ddd6de0afc59",
        "colab": {
          "base_uri": "https://localhost:8080/",
          "height": 306
        }
      },
      "source": [
        "brisbane_property.head()"
      ],
      "execution_count": 0,
      "outputs": [
        {
          "output_type": "execute_result",
          "data": {
            "text/html": [
              "<div>\n",
              "<style scoped>\n",
              "    .dataframe tbody tr th:only-of-type {\n",
              "        vertical-align: middle;\n",
              "    }\n",
              "\n",
              "    .dataframe tbody tr th {\n",
              "        vertical-align: top;\n",
              "    }\n",
              "\n",
              "    .dataframe thead th {\n",
              "        text-align: right;\n",
              "    }\n",
              "</style>\n",
              "<table border=\"1\" class=\"dataframe\">\n",
              "  <thead>\n",
              "    <tr style=\"text-align: right;\">\n",
              "      <th></th>\n",
              "      <th>MEASURE</th>\n",
              "      <th>Measure</th>\n",
              "      <th>PROP_TYPE</th>\n",
              "      <th>Property type</th>\n",
              "      <th>ASGS_2011</th>\n",
              "      <th>Region</th>\n",
              "      <th>FREQUENCY</th>\n",
              "      <th>Frequency</th>\n",
              "      <th>TIME</th>\n",
              "      <th>Time</th>\n",
              "      <th>Value</th>\n",
              "      <th>Flag Codes</th>\n",
              "      <th>Flags</th>\n",
              "    </tr>\n",
              "  </thead>\n",
              "  <tbody>\n",
              "    <tr>\n",
              "      <th>0</th>\n",
              "      <td>2</td>\n",
              "      <td>Percentage change from previous quarter</td>\n",
              "      <td>2</td>\n",
              "      <td>Established houses</td>\n",
              "      <td>3GBRI</td>\n",
              "      <td>Greater Brisbane</td>\n",
              "      <td>Q</td>\n",
              "      <td>Quarterly</td>\n",
              "      <td>2017-Q3</td>\n",
              "      <td>Sep-2017</td>\n",
              "      <td>0.6</td>\n",
              "      <td>NaN</td>\n",
              "      <td>NaN</td>\n",
              "    </tr>\n",
              "    <tr>\n",
              "      <th>1</th>\n",
              "      <td>2</td>\n",
              "      <td>Percentage change from previous quarter</td>\n",
              "      <td>2</td>\n",
              "      <td>Established houses</td>\n",
              "      <td>3GBRI</td>\n",
              "      <td>Greater Brisbane</td>\n",
              "      <td>Q</td>\n",
              "      <td>Quarterly</td>\n",
              "      <td>2017-Q4</td>\n",
              "      <td>Dec-2017</td>\n",
              "      <td>1.4</td>\n",
              "      <td>NaN</td>\n",
              "      <td>NaN</td>\n",
              "    </tr>\n",
              "    <tr>\n",
              "      <th>2</th>\n",
              "      <td>2</td>\n",
              "      <td>Percentage change from previous quarter</td>\n",
              "      <td>2</td>\n",
              "      <td>Established houses</td>\n",
              "      <td>3GBRI</td>\n",
              "      <td>Greater Brisbane</td>\n",
              "      <td>Q</td>\n",
              "      <td>Quarterly</td>\n",
              "      <td>2018-Q1</td>\n",
              "      <td>Mar-2018</td>\n",
              "      <td>-0.8</td>\n",
              "      <td>NaN</td>\n",
              "      <td>NaN</td>\n",
              "    </tr>\n",
              "    <tr>\n",
              "      <th>3</th>\n",
              "      <td>2</td>\n",
              "      <td>Percentage change from previous quarter</td>\n",
              "      <td>2</td>\n",
              "      <td>Established houses</td>\n",
              "      <td>3GBRI</td>\n",
              "      <td>Greater Brisbane</td>\n",
              "      <td>Q</td>\n",
              "      <td>Quarterly</td>\n",
              "      <td>2018-Q2</td>\n",
              "      <td>Jun-2018</td>\n",
              "      <td>0.9</td>\n",
              "      <td>NaN</td>\n",
              "      <td>NaN</td>\n",
              "    </tr>\n",
              "    <tr>\n",
              "      <th>4</th>\n",
              "      <td>2</td>\n",
              "      <td>Percentage change from previous quarter</td>\n",
              "      <td>2</td>\n",
              "      <td>Established houses</td>\n",
              "      <td>3GBRI</td>\n",
              "      <td>Greater Brisbane</td>\n",
              "      <td>Q</td>\n",
              "      <td>Quarterly</td>\n",
              "      <td>2018-Q3</td>\n",
              "      <td>Sep-2018</td>\n",
              "      <td>0.8</td>\n",
              "      <td>NaN</td>\n",
              "      <td>NaN</td>\n",
              "    </tr>\n",
              "  </tbody>\n",
              "</table>\n",
              "</div>"
            ],
            "text/plain": [
              "   MEASURE                                  Measure  ...  Flag Codes Flags\n",
              "0        2  Percentage change from previous quarter  ...         NaN   NaN\n",
              "1        2  Percentage change from previous quarter  ...         NaN   NaN\n",
              "2        2  Percentage change from previous quarter  ...         NaN   NaN\n",
              "3        2  Percentage change from previous quarter  ...         NaN   NaN\n",
              "4        2  Percentage change from previous quarter  ...         NaN   NaN\n",
              "\n",
              "[5 rows x 13 columns]"
            ]
          },
          "metadata": {
            "tags": []
          },
          "execution_count": 7
        }
      ]
    },
    {
      "cell_type": "code",
      "metadata": {
        "id": "MbR9eUH3ZpaV",
        "colab_type": "code",
        "outputId": "805aee4a-9287-4d60-8603-15b4dccb2e62",
        "colab": {
          "base_uri": "https://localhost:8080/",
          "height": 85
        }
      },
      "source": [
        "brisbane_property.columns"
      ],
      "execution_count": 0,
      "outputs": [
        {
          "output_type": "execute_result",
          "data": {
            "text/plain": [
              "Index(['MEASURE', 'Measure', 'PROP_TYPE', 'Property type', 'ASGS_2011',\n",
              "       'Region', 'FREQUENCY', 'Frequency', 'TIME', 'Time', 'Value',\n",
              "       'Flag Codes', 'Flags'],\n",
              "      dtype='object')"
            ]
          },
          "metadata": {
            "tags": []
          },
          "execution_count": 8
        }
      ]
    },
    {
      "cell_type": "code",
      "metadata": {
        "id": "edIlxBAsbfVz",
        "colab_type": "code",
        "colab": {}
      },
      "source": [
        "bris_property_index = pd.read_csv('https://raw.githubusercontent.com/lannstoirme/AustralianPropertyPricesTensorflowMLPredictions/master/RES_PROP_INDEX_14112019120058320.csv')"
      ],
      "execution_count": 0,
      "outputs": []
    },
    {
      "cell_type": "code",
      "metadata": {
        "id": "7xZKRrPAcDHS",
        "colab_type": "code",
        "outputId": "86150bef-9d7d-473e-836a-1983dadb86b7",
        "colab": {
          "base_uri": "https://localhost:8080/",
          "height": 306
        }
      },
      "source": [
        "bris_property_index.head()"
      ],
      "execution_count": 0,
      "outputs": [
        {
          "output_type": "execute_result",
          "data": {
            "text/html": [
              "<div>\n",
              "<style scoped>\n",
              "    .dataframe tbody tr th:only-of-type {\n",
              "        vertical-align: middle;\n",
              "    }\n",
              "\n",
              "    .dataframe tbody tr th {\n",
              "        vertical-align: top;\n",
              "    }\n",
              "\n",
              "    .dataframe thead th {\n",
              "        text-align: right;\n",
              "    }\n",
              "</style>\n",
              "<table border=\"1\" class=\"dataframe\">\n",
              "  <thead>\n",
              "    <tr style=\"text-align: right;\">\n",
              "      <th></th>\n",
              "      <th>MEASURE</th>\n",
              "      <th>Measure</th>\n",
              "      <th>PROP_TYPE</th>\n",
              "      <th>Property type</th>\n",
              "      <th>ASGS_2011</th>\n",
              "      <th>Region</th>\n",
              "      <th>FREQUENCY</th>\n",
              "      <th>Frequency</th>\n",
              "      <th>TIME</th>\n",
              "      <th>Time</th>\n",
              "      <th>Value</th>\n",
              "      <th>Flag Codes</th>\n",
              "      <th>Flags</th>\n",
              "    </tr>\n",
              "  </thead>\n",
              "  <tbody>\n",
              "    <tr>\n",
              "      <th>0</th>\n",
              "      <td>2</td>\n",
              "      <td>Percentage change from previous quarter</td>\n",
              "      <td>2</td>\n",
              "      <td>Established houses</td>\n",
              "      <td>3GBRI</td>\n",
              "      <td>Greater Brisbane</td>\n",
              "      <td>Q</td>\n",
              "      <td>Quarterly</td>\n",
              "      <td>2017-Q3</td>\n",
              "      <td>Sep-2017</td>\n",
              "      <td>0.6</td>\n",
              "      <td>NaN</td>\n",
              "      <td>NaN</td>\n",
              "    </tr>\n",
              "    <tr>\n",
              "      <th>1</th>\n",
              "      <td>2</td>\n",
              "      <td>Percentage change from previous quarter</td>\n",
              "      <td>2</td>\n",
              "      <td>Established houses</td>\n",
              "      <td>3GBRI</td>\n",
              "      <td>Greater Brisbane</td>\n",
              "      <td>Q</td>\n",
              "      <td>Quarterly</td>\n",
              "      <td>2017-Q4</td>\n",
              "      <td>Dec-2017</td>\n",
              "      <td>1.4</td>\n",
              "      <td>NaN</td>\n",
              "      <td>NaN</td>\n",
              "    </tr>\n",
              "    <tr>\n",
              "      <th>2</th>\n",
              "      <td>2</td>\n",
              "      <td>Percentage change from previous quarter</td>\n",
              "      <td>2</td>\n",
              "      <td>Established houses</td>\n",
              "      <td>3GBRI</td>\n",
              "      <td>Greater Brisbane</td>\n",
              "      <td>Q</td>\n",
              "      <td>Quarterly</td>\n",
              "      <td>2018-Q1</td>\n",
              "      <td>Mar-2018</td>\n",
              "      <td>-0.8</td>\n",
              "      <td>NaN</td>\n",
              "      <td>NaN</td>\n",
              "    </tr>\n",
              "    <tr>\n",
              "      <th>3</th>\n",
              "      <td>2</td>\n",
              "      <td>Percentage change from previous quarter</td>\n",
              "      <td>2</td>\n",
              "      <td>Established houses</td>\n",
              "      <td>3GBRI</td>\n",
              "      <td>Greater Brisbane</td>\n",
              "      <td>Q</td>\n",
              "      <td>Quarterly</td>\n",
              "      <td>2018-Q2</td>\n",
              "      <td>Jun-2018</td>\n",
              "      <td>0.9</td>\n",
              "      <td>NaN</td>\n",
              "      <td>NaN</td>\n",
              "    </tr>\n",
              "    <tr>\n",
              "      <th>4</th>\n",
              "      <td>2</td>\n",
              "      <td>Percentage change from previous quarter</td>\n",
              "      <td>2</td>\n",
              "      <td>Established houses</td>\n",
              "      <td>3GBRI</td>\n",
              "      <td>Greater Brisbane</td>\n",
              "      <td>Q</td>\n",
              "      <td>Quarterly</td>\n",
              "      <td>2018-Q3</td>\n",
              "      <td>Sep-2018</td>\n",
              "      <td>0.8</td>\n",
              "      <td>NaN</td>\n",
              "      <td>NaN</td>\n",
              "    </tr>\n",
              "  </tbody>\n",
              "</table>\n",
              "</div>"
            ],
            "text/plain": [
              "   MEASURE                                  Measure  ...  Flag Codes Flags\n",
              "0        2  Percentage change from previous quarter  ...         NaN   NaN\n",
              "1        2  Percentage change from previous quarter  ...         NaN   NaN\n",
              "2        2  Percentage change from previous quarter  ...         NaN   NaN\n",
              "3        2  Percentage change from previous quarter  ...         NaN   NaN\n",
              "4        2  Percentage change from previous quarter  ...         NaN   NaN\n",
              "\n",
              "[5 rows x 13 columns]"
            ]
          },
          "metadata": {
            "tags": []
          },
          "execution_count": 10
        }
      ]
    },
    {
      "cell_type": "code",
      "metadata": {
        "id": "FON_oljmdGZI",
        "colab_type": "code",
        "outputId": "2d659562-b464-40a9-8c76-f8edfcc597fb",
        "colab": {
          "base_uri": "https://localhost:8080/",
          "height": 85
        }
      },
      "source": [
        "bris_property_index.columns"
      ],
      "execution_count": 0,
      "outputs": [
        {
          "output_type": "execute_result",
          "data": {
            "text/plain": [
              "Index(['MEASURE', 'Measure', 'PROP_TYPE', 'Property type', 'ASGS_2011',\n",
              "       'Region', 'FREQUENCY', 'Frequency', 'TIME', 'Time', 'Value',\n",
              "       'Flag Codes', 'Flags'],\n",
              "      dtype='object')"
            ]
          },
          "metadata": {
            "tags": []
          },
          "execution_count": 11
        }
      ]
    },
    {
      "cell_type": "markdown",
      "metadata": {
        "id": "Ues0MWN7dYZA",
        "colab_type": "text"
      },
      "source": [
        "# Notes on the data in this set:\n",
        "ASGS_2011 - this is the Australian Statistical Geography Standard \n",
        "This data is presented in quarterly time periods\n",
        "from September 2017 - Jun 2019 (8 time periods) with information presented about the Residential Property Prices index, and the percentage change each quarter from the following quarter. It would be worth cleaning the data and plotting it to examine it. "
      ]
    },
    {
      "cell_type": "code",
      "metadata": {
        "id": "-yS6KiDqe16F",
        "colab_type": "code",
        "colab": {}
      },
      "source": [
        "time = tf.feature_column.numeric_column('Time')\n",
        "residential_property = tf.feature_column.numeric_column('Property type')\n",
        "value = tf.feature_column.numeric_column('Value')"
      ],
      "execution_count": 0,
      "outputs": []
    },
    {
      "cell_type": "markdown",
      "metadata": {
        "id": "hHnStzvqhSFM",
        "colab_type": "text"
      },
      "source": [
        "The data presented is messy and needs to be tidied/normalised. This could either be done in the Excel sheet, but that is highly impractical for large datasets, and can simply be performed through code and ensuring the data is intact and makes sense. So: time for some pseudocode to create a plan to fix this sticky data situation. \n",
        "\n",
        "#extract the general RPI amounts from the column values\n",
        "#assign the other percentage changes to chronological order of time increments\n",
        "#plot the data to ensure we are following sound process in preparing this data"
      ]
    },
    {
      "cell_type": "code",
      "metadata": {
        "id": "Rz-mVZhligUl",
        "colab_type": "code",
        "outputId": "40021ba2-6f58-4379-a236-7c8d079097a4",
        "colab": {
          "base_uri": "https://localhost:8080/",
          "height": 34
        }
      },
      "source": [
        "#create an array of values using numpy\n",
        "#if x in value >= 100:\n",
        "# add x to an array\n",
        "\n",
        "value.shape"
      ],
      "execution_count": 0,
      "outputs": [
        {
          "output_type": "execute_result",
          "data": {
            "text/plain": [
              "(1,)"
            ]
          },
          "metadata": {
            "tags": []
          },
          "execution_count": 13
        }
      ]
    },
    {
      "cell_type": "code",
      "metadata": {
        "id": "qtYCGOf9mI48",
        "colab_type": "code",
        "colab": {}
      },
      "source": [
        "df = pd.DataFrame(bris_property_index)\n"
      ],
      "execution_count": 0,
      "outputs": []
    },
    {
      "cell_type": "code",
      "metadata": {
        "id": "WtXFudGfq7IN",
        "colab_type": "code",
        "outputId": "d65ac0c7-fcca-4765-e091-befa6a371246",
        "colab": {
          "base_uri": "https://localhost:8080/",
          "height": 606
        }
      },
      "source": [
        "df"
      ],
      "execution_count": 0,
      "outputs": [
        {
          "output_type": "execute_result",
          "data": {
            "text/html": [
              "<div>\n",
              "<style scoped>\n",
              "    .dataframe tbody tr th:only-of-type {\n",
              "        vertical-align: middle;\n",
              "    }\n",
              "\n",
              "    .dataframe tbody tr th {\n",
              "        vertical-align: top;\n",
              "    }\n",
              "\n",
              "    .dataframe thead th {\n",
              "        text-align: right;\n",
              "    }\n",
              "</style>\n",
              "<table border=\"1\" class=\"dataframe\">\n",
              "  <thead>\n",
              "    <tr style=\"text-align: right;\">\n",
              "      <th></th>\n",
              "      <th>MEASURE</th>\n",
              "      <th>Measure</th>\n",
              "      <th>PROP_TYPE</th>\n",
              "      <th>Property type</th>\n",
              "      <th>ASGS_2011</th>\n",
              "      <th>Region</th>\n",
              "      <th>FREQUENCY</th>\n",
              "      <th>Frequency</th>\n",
              "      <th>TIME</th>\n",
              "      <th>Time</th>\n",
              "      <th>Value</th>\n",
              "      <th>Flag Codes</th>\n",
              "      <th>Flags</th>\n",
              "    </tr>\n",
              "  </thead>\n",
              "  <tbody>\n",
              "    <tr>\n",
              "      <th>0</th>\n",
              "      <td>2</td>\n",
              "      <td>Percentage change from previous quarter</td>\n",
              "      <td>2</td>\n",
              "      <td>Established houses</td>\n",
              "      <td>3GBRI</td>\n",
              "      <td>Greater Brisbane</td>\n",
              "      <td>Q</td>\n",
              "      <td>Quarterly</td>\n",
              "      <td>2017-Q3</td>\n",
              "      <td>Sep-2017</td>\n",
              "      <td>0.6</td>\n",
              "      <td>NaN</td>\n",
              "      <td>NaN</td>\n",
              "    </tr>\n",
              "    <tr>\n",
              "      <th>1</th>\n",
              "      <td>2</td>\n",
              "      <td>Percentage change from previous quarter</td>\n",
              "      <td>2</td>\n",
              "      <td>Established houses</td>\n",
              "      <td>3GBRI</td>\n",
              "      <td>Greater Brisbane</td>\n",
              "      <td>Q</td>\n",
              "      <td>Quarterly</td>\n",
              "      <td>2017-Q4</td>\n",
              "      <td>Dec-2017</td>\n",
              "      <td>1.4</td>\n",
              "      <td>NaN</td>\n",
              "      <td>NaN</td>\n",
              "    </tr>\n",
              "    <tr>\n",
              "      <th>2</th>\n",
              "      <td>2</td>\n",
              "      <td>Percentage change from previous quarter</td>\n",
              "      <td>2</td>\n",
              "      <td>Established houses</td>\n",
              "      <td>3GBRI</td>\n",
              "      <td>Greater Brisbane</td>\n",
              "      <td>Q</td>\n",
              "      <td>Quarterly</td>\n",
              "      <td>2018-Q1</td>\n",
              "      <td>Mar-2018</td>\n",
              "      <td>-0.8</td>\n",
              "      <td>NaN</td>\n",
              "      <td>NaN</td>\n",
              "    </tr>\n",
              "    <tr>\n",
              "      <th>3</th>\n",
              "      <td>2</td>\n",
              "      <td>Percentage change from previous quarter</td>\n",
              "      <td>2</td>\n",
              "      <td>Established houses</td>\n",
              "      <td>3GBRI</td>\n",
              "      <td>Greater Brisbane</td>\n",
              "      <td>Q</td>\n",
              "      <td>Quarterly</td>\n",
              "      <td>2018-Q2</td>\n",
              "      <td>Jun-2018</td>\n",
              "      <td>0.9</td>\n",
              "      <td>NaN</td>\n",
              "      <td>NaN</td>\n",
              "    </tr>\n",
              "    <tr>\n",
              "      <th>4</th>\n",
              "      <td>2</td>\n",
              "      <td>Percentage change from previous quarter</td>\n",
              "      <td>2</td>\n",
              "      <td>Established houses</td>\n",
              "      <td>3GBRI</td>\n",
              "      <td>Greater Brisbane</td>\n",
              "      <td>Q</td>\n",
              "      <td>Quarterly</td>\n",
              "      <td>2018-Q3</td>\n",
              "      <td>Sep-2018</td>\n",
              "      <td>0.8</td>\n",
              "      <td>NaN</td>\n",
              "      <td>NaN</td>\n",
              "    </tr>\n",
              "    <tr>\n",
              "      <th>...</th>\n",
              "      <td>...</td>\n",
              "      <td>...</td>\n",
              "      <td>...</td>\n",
              "      <td>...</td>\n",
              "      <td>...</td>\n",
              "      <td>...</td>\n",
              "      <td>...</td>\n",
              "      <td>...</td>\n",
              "      <td>...</td>\n",
              "      <td>...</td>\n",
              "      <td>...</td>\n",
              "      <td>...</td>\n",
              "      <td>...</td>\n",
              "    </tr>\n",
              "    <tr>\n",
              "      <th>67</th>\n",
              "      <td>2</td>\n",
              "      <td>Percentage change from previous quarter</td>\n",
              "      <td>3</td>\n",
              "      <td>Residential property</td>\n",
              "      <td>3GBRI</td>\n",
              "      <td>Greater Brisbane</td>\n",
              "      <td>Q</td>\n",
              "      <td>Quarterly</td>\n",
              "      <td>2018-Q2</td>\n",
              "      <td>Jun-2018</td>\n",
              "      <td>0.7</td>\n",
              "      <td>NaN</td>\n",
              "      <td>NaN</td>\n",
              "    </tr>\n",
              "    <tr>\n",
              "      <th>68</th>\n",
              "      <td>2</td>\n",
              "      <td>Percentage change from previous quarter</td>\n",
              "      <td>3</td>\n",
              "      <td>Residential property</td>\n",
              "      <td>3GBRI</td>\n",
              "      <td>Greater Brisbane</td>\n",
              "      <td>Q</td>\n",
              "      <td>Quarterly</td>\n",
              "      <td>2018-Q3</td>\n",
              "      <td>Sep-2018</td>\n",
              "      <td>0.6</td>\n",
              "      <td>NaN</td>\n",
              "      <td>NaN</td>\n",
              "    </tr>\n",
              "    <tr>\n",
              "      <th>69</th>\n",
              "      <td>2</td>\n",
              "      <td>Percentage change from previous quarter</td>\n",
              "      <td>3</td>\n",
              "      <td>Residential property</td>\n",
              "      <td>3GBRI</td>\n",
              "      <td>Greater Brisbane</td>\n",
              "      <td>Q</td>\n",
              "      <td>Quarterly</td>\n",
              "      <td>2018-Q4</td>\n",
              "      <td>Dec-2018</td>\n",
              "      <td>-1.1</td>\n",
              "      <td>NaN</td>\n",
              "      <td>NaN</td>\n",
              "    </tr>\n",
              "    <tr>\n",
              "      <th>70</th>\n",
              "      <td>2</td>\n",
              "      <td>Percentage change from previous quarter</td>\n",
              "      <td>3</td>\n",
              "      <td>Residential property</td>\n",
              "      <td>3GBRI</td>\n",
              "      <td>Greater Brisbane</td>\n",
              "      <td>Q</td>\n",
              "      <td>Quarterly</td>\n",
              "      <td>2019-Q1</td>\n",
              "      <td>Mar-2019</td>\n",
              "      <td>-1.5</td>\n",
              "      <td>NaN</td>\n",
              "      <td>NaN</td>\n",
              "    </tr>\n",
              "    <tr>\n",
              "      <th>71</th>\n",
              "      <td>2</td>\n",
              "      <td>Percentage change from previous quarter</td>\n",
              "      <td>3</td>\n",
              "      <td>Residential property</td>\n",
              "      <td>3GBRI</td>\n",
              "      <td>Greater Brisbane</td>\n",
              "      <td>Q</td>\n",
              "      <td>Quarterly</td>\n",
              "      <td>2019-Q2</td>\n",
              "      <td>Jun-2019</td>\n",
              "      <td>-0.7</td>\n",
              "      <td>NaN</td>\n",
              "      <td>NaN</td>\n",
              "    </tr>\n",
              "  </tbody>\n",
              "</table>\n",
              "<p>72 rows × 13 columns</p>\n",
              "</div>"
            ],
            "text/plain": [
              "    MEASURE                                  Measure  ...  Flag Codes Flags\n",
              "0         2  Percentage change from previous quarter  ...         NaN   NaN\n",
              "1         2  Percentage change from previous quarter  ...         NaN   NaN\n",
              "2         2  Percentage change from previous quarter  ...         NaN   NaN\n",
              "3         2  Percentage change from previous quarter  ...         NaN   NaN\n",
              "4         2  Percentage change from previous quarter  ...         NaN   NaN\n",
              "..      ...                                      ...  ...         ...   ...\n",
              "67        2  Percentage change from previous quarter  ...         NaN   NaN\n",
              "68        2  Percentage change from previous quarter  ...         NaN   NaN\n",
              "69        2  Percentage change from previous quarter  ...         NaN   NaN\n",
              "70        2  Percentage change from previous quarter  ...         NaN   NaN\n",
              "71        2  Percentage change from previous quarter  ...         NaN   NaN\n",
              "\n",
              "[72 rows x 13 columns]"
            ]
          },
          "metadata": {
            "tags": []
          },
          "execution_count": 15
        }
      ]
    },
    {
      "cell_type": "code",
      "metadata": {
        "id": "8awd1qWjqn5o",
        "colab_type": "code",
        "colab": {}
      },
      "source": [
        "value_sort = df[\"Value\"].tolist()"
      ],
      "execution_count": 0,
      "outputs": []
    },
    {
      "cell_type": "code",
      "metadata": {
        "id": "RJfVLkZDrjcU",
        "colab_type": "code",
        "outputId": "bf9b9722-e36d-4f00-d517-576dbbfb78a9",
        "colab": {
          "base_uri": "https://localhost:8080/",
          "height": 54
        }
      },
      "source": [
        "print(value_sort)"
      ],
      "execution_count": 0,
      "outputs": [
        {
          "output_type": "stream",
          "text": [
            "[0.6, 1.4, -0.8, 0.9, 0.8, -1.0, -1.5, -0.9, -0.4, -0.2, -0.5, -0.2, -0.7, -0.9, -2.7, -3.2, 122.9, 124.0, 123.3, 124.2, 125.0, 123.6, 121.7, 120.9, 3.5, 2.1, 1.6, 1.7, 1.7, -0.3, -1.3, -2.7, 0.4, -1.2, 0.3, 0.4, -0.2, -1.4, -1.6, -0.1, 125.5, 127.2, 126.2, 127.3, 128.3, 127.0, 125.1, 124.0, 4.2, 2.7, 2.0, 2.1, 2.2, -0.2, -0.9, -2.6, 111.6, 110.3, 110.6, 111.0, 110.8, 109.3, 107.6, 107.5, 0.7, 0.9, -0.6, 0.7, 0.6, -1.1, -1.5, -0.7]\n"
          ],
          "name": "stdout"
        }
      ]
    },
    {
      "cell_type": "code",
      "metadata": {
        "id": "13-uu9lJrz1j",
        "colab_type": "code",
        "outputId": "a0b0f00e-7a37-46b8-8753-b9889a4e2ffc",
        "colab": {
          "base_uri": "https://localhost:8080/",
          "height": 54
        }
      },
      "source": [
        "res_property_index = df[\"Property type\"].tolist()\n",
        "print(res_property_index)"
      ],
      "execution_count": 0,
      "outputs": [
        {
          "output_type": "stream",
          "text": [
            "['Established houses', 'Established houses', 'Established houses', 'Established houses', 'Established houses', 'Established houses', 'Established houses', 'Established houses', 'Attached dwellings', 'Attached dwellings', 'Attached dwellings', 'Attached dwellings', 'Attached dwellings', 'Attached dwellings', 'Attached dwellings', 'Attached dwellings', 'Residential property', 'Residential property', 'Residential property', 'Residential property', 'Residential property', 'Residential property', 'Residential property', 'Residential property', 'Residential property', 'Residential property', 'Residential property', 'Residential property', 'Residential property', 'Residential property', 'Residential property', 'Residential property', 'Attached dwellings', 'Attached dwellings', 'Attached dwellings', 'Attached dwellings', 'Attached dwellings', 'Attached dwellings', 'Attached dwellings', 'Attached dwellings', 'Established houses', 'Established houses', 'Established houses', 'Established houses', 'Established houses', 'Established houses', 'Established houses', 'Established houses', 'Established houses', 'Established houses', 'Established houses', 'Established houses', 'Established houses', 'Established houses', 'Established houses', 'Established houses', 'Attached dwellings', 'Attached dwellings', 'Attached dwellings', 'Attached dwellings', 'Attached dwellings', 'Attached dwellings', 'Attached dwellings', 'Attached dwellings', 'Residential property', 'Residential property', 'Residential property', 'Residential property', 'Residential property', 'Residential property', 'Residential property', 'Residential property']\n"
          ],
          "name": "stdout"
        }
      ]
    },
    {
      "cell_type": "code",
      "metadata": {
        "id": "mpDoIailsY0o",
        "colab_type": "code",
        "colab": {}
      },
      "source": [
        "time_sort = df[\"Time\"].tolist()"
      ],
      "execution_count": 0,
      "outputs": []
    },
    {
      "cell_type": "code",
      "metadata": {
        "id": "ziC9vQlyshti",
        "colab_type": "code",
        "outputId": "631be67f-624b-4c40-8cae-a6c27e6f9db7",
        "colab": {
          "base_uri": "https://localhost:8080/",
          "height": 54
        }
      },
      "source": [
        "print(time_sort)"
      ],
      "execution_count": 0,
      "outputs": [
        {
          "output_type": "stream",
          "text": [
            "['Sep-2017', 'Dec-2017', 'Mar-2018', 'Jun-2018', 'Sep-2018', 'Dec-2018', 'Mar-2019', 'Jun-2019', 'Sep-2017', 'Dec-2017', 'Mar-2018', 'Jun-2018', 'Sep-2018', 'Dec-2018', 'Mar-2019', 'Jun-2019', 'Sep-2017', 'Dec-2017', 'Mar-2018', 'Jun-2018', 'Sep-2018', 'Dec-2018', 'Mar-2019', 'Jun-2019', 'Sep-2017', 'Dec-2017', 'Mar-2018', 'Jun-2018', 'Sep-2018', 'Dec-2018', 'Mar-2019', 'Jun-2019', 'Sep-2017', 'Dec-2017', 'Mar-2018', 'Jun-2018', 'Sep-2018', 'Dec-2018', 'Mar-2019', 'Jun-2019', 'Sep-2017', 'Dec-2017', 'Mar-2018', 'Jun-2018', 'Sep-2018', 'Dec-2018', 'Mar-2019', 'Jun-2019', 'Sep-2017', 'Dec-2017', 'Mar-2018', 'Jun-2018', 'Sep-2018', 'Dec-2018', 'Mar-2019', 'Jun-2019', 'Sep-2017', 'Dec-2017', 'Mar-2018', 'Jun-2018', 'Sep-2018', 'Dec-2018', 'Mar-2019', 'Jun-2019', 'Sep-2017', 'Dec-2017', 'Mar-2018', 'Jun-2018', 'Sep-2018', 'Dec-2018', 'Mar-2019', 'Jun-2019']\n"
          ],
          "name": "stdout"
        }
      ]
    },
    {
      "cell_type": "markdown",
      "metadata": {
        "id": "VQSR2cbpsuAF",
        "colab_type": "text"
      },
      "source": [
        "Seems it is better to manually create a sorted CSV and prepare the data file to ensure that it has integrity; similarly to normalising data tables to prepare a database. Data has been sought for the housing price index from the last 20 years. This was a publicly available dataset from the ABS website. The new file is added here: "
      ]
    },
    {
      "cell_type": "code",
      "metadata": {
        "id": "OYQxPkqktCJ3",
        "colab_type": "code",
        "colab": {}
      },
      "source": [
        "Brisbane_Data = pd.read_csv('https://raw.githubusercontent.com/lannstoirme/AustralianPropertyPricesTensorflowMLPredictions/master/ResPropertyPricesBrisbaneCleanDataYSet%20-%20Sheet1%20(1).csv')"
      ],
      "execution_count": 0,
      "outputs": []
    },
    {
      "cell_type": "code",
      "metadata": {
        "id": "mLfaEN3nvqVK",
        "colab_type": "code",
        "outputId": "9b8b2ee5-744c-4c3a-fd4c-6f25042f6597",
        "colab": {
          "base_uri": "https://localhost:8080/",
          "height": 607
        }
      },
      "source": [
        "Brisbane_Data"
      ],
      "execution_count": 0,
      "outputs": [
        {
          "output_type": "execute_result",
          "data": {
            "text/html": [
              "<div>\n",
              "<style scoped>\n",
              "    .dataframe tbody tr th:only-of-type {\n",
              "        vertical-align: middle;\n",
              "    }\n",
              "\n",
              "    .dataframe tbody tr th {\n",
              "        vertical-align: top;\n",
              "    }\n",
              "\n",
              "    .dataframe thead th {\n",
              "        text-align: right;\n",
              "    }\n",
              "</style>\n",
              "<table border=\"1\" class=\"dataframe\">\n",
              "  <thead>\n",
              "    <tr style=\"text-align: right;\">\n",
              "      <th></th>\n",
              "      <th>ID_Stamp</th>\n",
              "      <th>Time</th>\n",
              "      <th>Price Index</th>\n",
              "      <th>Movement</th>\n",
              "    </tr>\n",
              "  </thead>\n",
              "  <tbody>\n",
              "    <tr>\n",
              "      <th>0</th>\n",
              "      <td>1</td>\n",
              "      <td>2002–03</td>\n",
              "      <td>52.6</td>\n",
              "      <td>0.0</td>\n",
              "    </tr>\n",
              "    <tr>\n",
              "      <th>1</th>\n",
              "      <td>2</td>\n",
              "      <td>2003–04</td>\n",
              "      <td>69.7</td>\n",
              "      <td>32.5</td>\n",
              "    </tr>\n",
              "    <tr>\n",
              "      <th>2</th>\n",
              "      <td>3</td>\n",
              "      <td>2004–05</td>\n",
              "      <td>72.6</td>\n",
              "      <td>4.2</td>\n",
              "    </tr>\n",
              "    <tr>\n",
              "      <th>3</th>\n",
              "      <td>4</td>\n",
              "      <td>2005–06</td>\n",
              "      <td>75.4</td>\n",
              "      <td>3.9</td>\n",
              "    </tr>\n",
              "    <tr>\n",
              "      <th>4</th>\n",
              "      <td>5</td>\n",
              "      <td>2006–07</td>\n",
              "      <td>83.1</td>\n",
              "      <td>10.2</td>\n",
              "    </tr>\n",
              "    <tr>\n",
              "      <th>5</th>\n",
              "      <td>6</td>\n",
              "      <td>2007–08</td>\n",
              "      <td>98.8</td>\n",
              "      <td>18.9</td>\n",
              "    </tr>\n",
              "    <tr>\n",
              "      <th>6</th>\n",
              "      <td>7</td>\n",
              "      <td>2008–09</td>\n",
              "      <td>97.4</td>\n",
              "      <td>-1.4</td>\n",
              "    </tr>\n",
              "    <tr>\n",
              "      <th>7</th>\n",
              "      <td>8</td>\n",
              "      <td>2009–10</td>\n",
              "      <td>105.7</td>\n",
              "      <td>8.5</td>\n",
              "    </tr>\n",
              "    <tr>\n",
              "      <th>8</th>\n",
              "      <td>9</td>\n",
              "      <td>2010–11</td>\n",
              "      <td>104.6</td>\n",
              "      <td>-1.0</td>\n",
              "    </tr>\n",
              "    <tr>\n",
              "      <th>9</th>\n",
              "      <td>10</td>\n",
              "      <td>2011–12</td>\n",
              "      <td>100.0</td>\n",
              "      <td>-4.4</td>\n",
              "    </tr>\n",
              "    <tr>\n",
              "      <th>10</th>\n",
              "      <td>11</td>\n",
              "      <td>2012–13</td>\n",
              "      <td>101.8</td>\n",
              "      <td>1.8</td>\n",
              "    </tr>\n",
              "    <tr>\n",
              "      <th>11</th>\n",
              "      <td>12</td>\n",
              "      <td>2013–14</td>\n",
              "      <td>108.0</td>\n",
              "      <td>6.1</td>\n",
              "    </tr>\n",
              "    <tr>\n",
              "      <th>12</th>\n",
              "      <td>13</td>\n",
              "      <td>2014–15</td>\n",
              "      <td>113.2</td>\n",
              "      <td>4.8</td>\n",
              "    </tr>\n",
              "    <tr>\n",
              "      <th>13</th>\n",
              "      <td>14</td>\n",
              "      <td>2015–16</td>\n",
              "      <td>118.4</td>\n",
              "      <td>4.6</td>\n",
              "    </tr>\n",
              "    <tr>\n",
              "      <th>14</th>\n",
              "      <td>15</td>\n",
              "      <td>2016–17</td>\n",
              "      <td>123.2</td>\n",
              "      <td>4.1</td>\n",
              "    </tr>\n",
              "    <tr>\n",
              "      <th>15</th>\n",
              "      <td>16</td>\n",
              "      <td>2017–18</td>\n",
              "      <td>126.6</td>\n",
              "      <td>2.8</td>\n",
              "    </tr>\n",
              "    <tr>\n",
              "      <th>16</th>\n",
              "      <td>17</td>\n",
              "      <td>2018–19</td>\n",
              "      <td>126.1</td>\n",
              "      <td>-0.4</td>\n",
              "    </tr>\n",
              "    <tr>\n",
              "      <th>17</th>\n",
              "      <td>18</td>\n",
              "      <td>2019-20</td>\n",
              "      <td>120.9</td>\n",
              "      <td>-5.2</td>\n",
              "    </tr>\n",
              "  </tbody>\n",
              "</table>\n",
              "</div>"
            ],
            "text/plain": [
              "    ID_Stamp     Time  Price Index  Movement\n",
              "0          1  2002–03         52.6       0.0\n",
              "1          2  2003–04         69.7      32.5\n",
              "2          3  2004–05         72.6       4.2\n",
              "3          4  2005–06         75.4       3.9\n",
              "4          5  2006–07         83.1      10.2\n",
              "5          6  2007–08         98.8      18.9\n",
              "6          7  2008–09         97.4      -1.4\n",
              "7          8  2009–10        105.7       8.5\n",
              "8          9  2010–11        104.6      -1.0\n",
              "9         10  2011–12        100.0      -4.4\n",
              "10        11  2012–13        101.8       1.8\n",
              "11        12  2013–14        108.0       6.1\n",
              "12        13  2014–15        113.2       4.8\n",
              "13        14  2015–16        118.4       4.6\n",
              "14        15  2016–17        123.2       4.1\n",
              "15        16  2017–18        126.6       2.8\n",
              "16        17  2018–19        126.1      -0.4\n",
              "17        18  2019-20        120.9      -5.2"
            ]
          },
          "metadata": {
            "tags": []
          },
          "execution_count": 54
        }
      ]
    },
    {
      "cell_type": "code",
      "metadata": {
        "id": "6s9EfcHGjwWx",
        "colab_type": "code",
        "colab": {}
      },
      "source": [
        ""
      ],
      "execution_count": 0,
      "outputs": []
    },
    {
      "cell_type": "code",
      "metadata": {
        "id": "6dqiLG1exk0_",
        "colab_type": "code",
        "outputId": "3fea63f8-09ea-44cc-b550-95b65e3eddf9",
        "colab": {
          "base_uri": "https://localhost:8080/",
          "height": 34
        }
      },
      "source": [
        "Brisbane_Data.columns"
      ],
      "execution_count": 0,
      "outputs": [
        {
          "output_type": "execute_result",
          "data": {
            "text/plain": [
              "Index(['ID_Stamp', 'Time', 'Price Index', 'Movement'], dtype='object')"
            ]
          },
          "metadata": {
            "tags": []
          },
          "execution_count": 55
        }
      ]
    },
    {
      "cell_type": "code",
      "metadata": {
        "id": "O_hm2ltdhr5X",
        "colab_type": "code",
        "colab": {}
      },
      "source": [
        "df1 = pd.DataFrame(Brisbane_Data)"
      ],
      "execution_count": 0,
      "outputs": []
    },
    {
      "cell_type": "code",
      "metadata": {
        "id": "48ougG5PxxVW",
        "colab_type": "code",
        "outputId": "8390bb10-ca50-479e-dc5e-c4d948758808",
        "colab": {
          "base_uri": "https://localhost:8080/",
          "height": 300
        }
      },
      "source": [
        "import matplotlib.pyplot as plt\n",
        "%matplotlib inline\n",
        "df1.plot(x = 'ID_Stamp', y = 'Price Index', kind = 'scatter')\n"
      ],
      "execution_count": 0,
      "outputs": [
        {
          "output_type": "execute_result",
          "data": {
            "text/plain": [
              "<matplotlib.axes._subplots.AxesSubplot at 0x7f74ebf92518>"
            ]
          },
          "metadata": {
            "tags": []
          },
          "execution_count": 58
        },
        {
          "output_type": "display_data",
          "data": {
            "image/png": "[encoded data removed]",
            "text/plain": [
              "<Figure size 432x288 with 1 Axes>"
            ]
          },
          "metadata": {
            "tags": []
          }
        }
      ]
    },
    {
      "cell_type": "code",
      "metadata": {
        "id": "i9eHMAmf8olb",
        "colab_type": "code",
        "colab": {}
      },
      "source": [
        "from sklearn.model_selection import train_test_split\n"
      ],
      "execution_count": 0,
      "outputs": []
    },
    {
      "cell_type": "code",
      "metadata": {
        "id": "u_CUVBxtGvIn",
        "colab_type": "code",
        "colab": {}
      },
      "source": [
        "#tf.feature_column.numeric_column\n",
        "ids = tf.feature_column.numeric_column(\"ID_Stamp\")\n",
        "time = tf.feature_column.numeric_column(\"Time\")\n",
        "price = tf.feature_column.numeric_column(\"Price Index\")\n",
        "movement = tf.feature_column.numeric_column(\"Movement\")"
      ],
      "execution_count": 0,
      "outputs": []
    },
    {
      "cell_type": "code",
      "metadata": {
        "id": "nQ1W8r95jPQa",
        "colab_type": "code",
        "colab": {}
      },
      "source": [
        "feat_cols = [ids, movement]"
      ],
      "execution_count": 0,
      "outputs": []
    },
    {
      "cell_type": "code",
      "metadata": {
        "id": "u8A4MNRi06oc",
        "colab_type": "code",
        "colab": {}
      },
      "source": [
        "y_val = Brisbane_Data[\"Price Index\"]"
      ],
      "execution_count": 0,
      "outputs": []
    },
    {
      "cell_type": "code",
      "metadata": {
        "id": "nWp0JTDP1Jo7",
        "colab_type": "code",
        "colab": {}
      },
      "source": [
        "x_data = Brisbane_Data.drop(['Price Index', 'Time'], axis = 1)"
      ],
      "execution_count": 0,
      "outputs": []
    },
    {
      "cell_type": "code",
      "metadata": {
        "id": "XbFP8tdd1rVf",
        "colab_type": "code",
        "colab": {}
      },
      "source": [
        "#Create test_train split\n",
        "X_train, X_test, y_train, y_test = train_test_split(x_data, y_val, test_size=0.33, random_state=101)"
      ],
      "execution_count": 0,
      "outputs": []
    },
    {
      "cell_type": "code",
      "metadata": {
        "id": "OKOwvFty2NUV",
        "colab_type": "code",
        "colab": {
          "base_uri": "https://localhost:8080/",
          "height": 34
        },
        "outputId": "5d269639-964d-4e28-abba-4889dab1bd3b"
      },
      "source": [
        "#Scale the data\n",
        "from sklearn.preprocessing import MinMaxScaler\n",
        "scaler = MinMaxScaler()\n",
        "scaler.fit(X_train)"
      ],
      "execution_count": 82,
      "outputs": [
        {
          "output_type": "execute_result",
          "data": {
            "text/plain": [
              "MinMaxScaler(copy=True, feature_range=(0, 1))"
            ]
          },
          "metadata": {
            "tags": []
          },
          "execution_count": 82
        }
      ]
    },
    {
      "cell_type": "code",
      "metadata": {
        "id": "VdNZ9u5W2tr_",
        "colab_type": "code",
        "colab": {}
      },
      "source": [
        "X_train = pd.DataFrame(data=scaler.transform(X_train),\n",
        "                       columns=X_train.columns,\n",
        "                       index=X_train.index)"
      ],
      "execution_count": 0,
      "outputs": []
    },
    {
      "cell_type": "code",
      "metadata": {
        "id": "nyXvEX-V3SE2",
        "colab_type": "code",
        "colab": {}
      },
      "source": [
        "X_test = pd.DataFrame(data=scaler.transform(X_test),\n",
        "                       columns=X_test.columns,\n",
        "                       index=X_test.index)"
      ],
      "execution_count": 0,
      "outputs": []
    },
    {
      "cell_type": "code",
      "metadata": {
        "id": "5dTNCFC53ecF",
        "colab_type": "code",
        "colab": {
          "base_uri": "https://localhost:8080/",
          "height": 34
        },
        "outputId": "e86b97de-05c7-41e3-968a-cd680156110b"
      },
      "source": [
        "#Create feature columns\n",
        "Brisbane_Data.columns"
      ],
      "execution_count": 85,
      "outputs": [
        {
          "output_type": "execute_result",
          "data": {
            "text/plain": [
              "Index(['ID_Stamp', 'Time', 'Price Index', 'Movement'], dtype='object')"
            ]
          },
          "metadata": {
            "tags": []
          },
          "execution_count": 85
        }
      ]
    },
    {
      "cell_type": "code",
      "metadata": {
        "id": "0KMBJi3v3xLf",
        "colab_type": "code",
        "colab": {}
      },
      "source": [
        "import tensorflow as tf"
      ],
      "execution_count": 0,
      "outputs": []
    },
    {
      "cell_type": "code",
      "metadata": {
        "id": "d_SKE1474Vwp",
        "colab_type": "code",
        "colab": {}
      },
      "source": [
        "input_func = tf.estimator.inputs.pandas_input_fn(x=X_train,\n",
        "                                                 y=y_train,\n",
        "                                                 batch_size=10,\n",
        "                                                 num_epochs=1000,\n",
        "                                                 shuffle=True)"
      ],
      "execution_count": 0,
      "outputs": []
    },
    {
      "cell_type": "code",
      "metadata": {
        "id": "3NhUM2v042Gu",
        "colab_type": "code",
        "colab": {
          "base_uri": "https://localhost:8080/",
          "height": 190
        },
        "outputId": "4de62386-387e-47f2-a9b8-68f868dd6106"
      },
      "source": [
        "model = tf.estimator.LinearRegressor(feature_columns=feat_cols)"
      ],
      "execution_count": 118,
      "outputs": [
        {
          "output_type": "stream",
          "text": [
            "INFO:tensorflow:Using default config.\n",
            "WARNING:tensorflow:Using temporary folder as model directory: /tmp/tmpru3gd20p\n",
            "INFO:tensorflow:Using config: {'_model_dir': '/tmp/tmpru3gd20p', '_tf_random_seed': None, '_save_summary_steps': 100, '_save_checkpoints_steps': None, '_save_checkpoints_secs': 600, '_session_config': allow_soft_placement: true\n",
            "graph_options {\n",
            "  rewrite_options {\n",
            "    meta_optimizer_iterations: ONE\n",
            "  }\n",
            "}\n",
            ", '_keep_checkpoint_max': 5, '_keep_checkpoint_every_n_hours': 10000, '_log_step_count_steps': 100, '_train_distribute': None, '_device_fn': None, '_protocol': None, '_eval_distribute': None, '_experimental_distribute': None, '_experimental_max_worker_delay_secs': None, '_session_creation_timeout_secs': 7200, '_service': None, '_cluster_spec': <tensorflow.python.training.server_lib.ClusterSpec object at 0x7f74e83ad1d0>, '_task_type': 'worker', '_task_id': 0, '_global_id_in_cluster': 0, '_master': '', '_evaluation_master': '', '_is_chief': True, '_num_ps_replicas': 0, '_num_worker_replicas': 1}\n"
          ],
          "name": "stdout"
        }
      ]
    },
    {
      "cell_type": "code",
      "metadata": {
        "id": "aobF6Zom5gph",
        "colab_type": "code",
        "colab": {
          "base_uri": "https://localhost:8080/",
          "height": 649
        },
        "outputId": "b9c5ab35-c833-4263-b07c-e974cd742698"
      },
      "source": [
        "model.train(input_fn=input_func, steps=2000000)"
      ],
      "execution_count": 119,
      "outputs": [
        {
          "output_type": "stream",
          "text": [
            "INFO:tensorflow:Calling model_fn.\n",
            "WARNING:tensorflow:From /usr/local/lib/python3.6/dist-packages/tensorflow_core/python/feature_column/feature_column_v2.py:305: Layer.add_variable (from tensorflow.python.keras.engine.base_layer) is deprecated and will be removed in a future version.\n",
            "Instructions for updating:\n",
            "Please use `layer.add_weight` method instead.\n",
            "INFO:tensorflow:Done calling model_fn.\n",
            "INFO:tensorflow:Create CheckpointSaverHook.\n",
            "INFO:tensorflow:Graph was finalized.\n",
            "INFO:tensorflow:Running local_init_op.\n",
            "INFO:tensorflow:Done running local_init_op.\n",
            "INFO:tensorflow:Saving checkpoints for 0 into /tmp/tmpru3gd20p/model.ckpt.\n",
            "INFO:tensorflow:loss = 103840.73, step = 1\n",
            "INFO:tensorflow:global_step/sec: 388.807\n",
            "INFO:tensorflow:loss = 109841.48, step = 101 (0.261 sec)\n",
            "INFO:tensorflow:global_step/sec: 467.204\n",
            "INFO:tensorflow:loss = 90607.44, step = 201 (0.220 sec)\n",
            "INFO:tensorflow:global_step/sec: 414.435\n",
            "INFO:tensorflow:loss = 106996.98, step = 301 (0.241 sec)\n",
            "INFO:tensorflow:global_step/sec: 434.38\n",
            "INFO:tensorflow:loss = 89675.04, step = 401 (0.228 sec)\n",
            "INFO:tensorflow:global_step/sec: 496.252\n",
            "INFO:tensorflow:loss = 76477.46, step = 501 (0.201 sec)\n",
            "INFO:tensorflow:global_step/sec: 462.813\n",
            "INFO:tensorflow:loss = 79511.375, step = 601 (0.219 sec)\n",
            "INFO:tensorflow:global_step/sec: 420.732\n",
            "INFO:tensorflow:loss = 75570.25, step = 701 (0.238 sec)\n",
            "INFO:tensorflow:global_step/sec: 477.811\n",
            "INFO:tensorflow:loss = 84191.38, step = 801 (0.203 sec)\n",
            "INFO:tensorflow:global_step/sec: 481.16\n",
            "INFO:tensorflow:loss = 72458.91, step = 901 (0.214 sec)\n",
            "INFO:tensorflow:global_step/sec: 427.472\n",
            "INFO:tensorflow:loss = 77232.23, step = 1001 (0.243 sec)\n",
            "INFO:tensorflow:global_step/sec: 388.638\n",
            "INFO:tensorflow:loss = 75959.16, step = 1101 (0.245 sec)\n",
            "INFO:tensorflow:Saving checkpoints for 1200 into /tmp/tmpru3gd20p/model.ckpt.\n",
            "INFO:tensorflow:Loss for final step: 68576.09.\n"
          ],
          "name": "stdout"
        },
        {
          "output_type": "execute_result",
          "data": {
            "text/plain": [
              "<tensorflow_estimator.python.estimator.canned.linear.LinearRegressor at 0x7f74e83adbe0>"
            ]
          },
          "metadata": {
            "tags": []
          },
          "execution_count": 119
        }
      ]
    },
    {
      "cell_type": "code",
      "metadata": {
        "id": "XHChB3dL6rAM",
        "colab_type": "code",
        "colab": {}
      },
      "source": [
        "predict_input_func = tf.estimator.inputs.pandas_input_fn(x=X_test,\n",
        "                                                         batch_size=10,\n",
        "                                                         num_epochs=1,\n",
        "                                                         shuffle=False)"
      ],
      "execution_count": 0,
      "outputs": []
    },
    {
      "cell_type": "code",
      "metadata": {
        "id": "HEutugD27GX5",
        "colab_type": "code",
        "colab": {}
      },
      "source": [
        "pred_gen = model.predict(predict_input_func)"
      ],
      "execution_count": 0,
      "outputs": []
    },
    {
      "cell_type": "code",
      "metadata": {
        "id": "9fzpkaKn7Xag",
        "colab_type": "code",
        "colab": {
          "base_uri": "https://localhost:8080/",
          "height": 119
        },
        "outputId": "faa6054a-84a7-499a-d7fe-0a3f48cdbdbd"
      },
      "source": [
        "predictions = list(pred_gen)"
      ],
      "execution_count": 122,
      "outputs": [
        {
          "output_type": "stream",
          "text": [
            "INFO:tensorflow:Calling model_fn.\n",
            "INFO:tensorflow:Done calling model_fn.\n",
            "INFO:tensorflow:Graph was finalized.\n",
            "INFO:tensorflow:Restoring parameters from /tmp/tmpru3gd20p/model.ckpt-1200\n",
            "INFO:tensorflow:Running local_init_op.\n",
            "INFO:tensorflow:Done running local_init_op.\n"
          ],
          "name": "stdout"
        }
      ]
    },
    {
      "cell_type": "code",
      "metadata": {
        "id": "S8W0SNmW7hM-",
        "colab_type": "code",
        "colab": {
          "base_uri": "https://localhost:8080/",
          "height": 119
        },
        "outputId": "424484fc-e23b-4017-b2c9-f921742966c7"
      },
      "source": [
        "predictions"
      ],
      "execution_count": 123,
      "outputs": [
        {
          "output_type": "execute_result",
          "data": {
            "text/plain": [
              "[{'predictions': array([16.79581], dtype=float32)},\n",
              " {'predictions': array([27.595863], dtype=float32)},\n",
              " {'predictions': array([29.896408], dtype=float32)},\n",
              " {'predictions': array([15.981367], dtype=float32)},\n",
              " {'predictions': array([11.827429], dtype=float32)},\n",
              " {'predictions': array([27.17314], dtype=float32)}]"
            ]
          },
          "metadata": {
            "tags": []
          },
          "execution_count": 123
        }
      ]
    },
    {
      "cell_type": "code",
      "metadata": {
        "id": "0FobX9Kj7u6c",
        "colab_type": "code",
        "colab": {}
      },
      "source": [
        "final_preds = []\n",
        "\n",
        "for pred in predictions:\n",
        "  final_preds.append(pred['predictions'])"
      ],
      "execution_count": 0,
      "outputs": []
    },
    {
      "cell_type": "code",
      "metadata": {
        "id": "6233m-P58Cdk",
        "colab_type": "code",
        "colab": {}
      },
      "source": [
        "from sklearn.metrics import mean_squared_error"
      ],
      "execution_count": 0,
      "outputs": []
    },
    {
      "cell_type": "code",
      "metadata": {
        "id": "WMr2ZFpc8YAR",
        "colab_type": "code",
        "colab": {
          "base_uri": "https://localhost:8080/",
          "height": 34
        },
        "outputId": "0fa3c68a-849c-44c2-9116-1bf4ca07c6b4"
      },
      "source": [
        "mean_squared_error(y_test, final_preds)**0.5"
      ],
      "execution_count": 126,
      "outputs": [
        {
          "output_type": "execute_result",
          "data": {
            "text/plain": [
              "69.29829693002378"
            ]
          },
          "metadata": {
            "tags": []
          },
          "execution_count": 126
        }
      ]
    },
    {
      "cell_type": "code",
      "metadata": {
        "id": "OFE9Z1lN80dw",
        "colab_type": "code",
        "colab": {
          "base_uri": "https://localhost:8080/",
          "height": 142
        },
        "outputId": "d1779990-bd5d-4e5f-da65-3b0efe86375e"
      },
      "source": [
        "Brisbane_Data.describe().transpose()"
      ],
      "execution_count": 127,
      "outputs": [
        {
          "output_type": "execute_result",
          "data": {
            "text/html": [
              "<div>\n",
              "<style scoped>\n",
              "    .dataframe tbody tr th:only-of-type {\n",
              "        vertical-align: middle;\n",
              "    }\n",
              "\n",
              "    .dataframe tbody tr th {\n",
              "        vertical-align: top;\n",
              "    }\n",
              "\n",
              "    .dataframe thead th {\n",
              "        text-align: right;\n",
              "    }\n",
              "</style>\n",
              "<table border=\"1\" class=\"dataframe\">\n",
              "  <thead>\n",
              "    <tr style=\"text-align: right;\">\n",
              "      <th></th>\n",
              "      <th>count</th>\n",
              "      <th>mean</th>\n",
              "      <th>std</th>\n",
              "      <th>min</th>\n",
              "      <th>25%</th>\n",
              "      <th>50%</th>\n",
              "      <th>75%</th>\n",
              "      <th>max</th>\n",
              "    </tr>\n",
              "  </thead>\n",
              "  <tbody>\n",
              "    <tr>\n",
              "      <th>ID_Stamp</th>\n",
              "      <td>18.0</td>\n",
              "      <td>9.500000</td>\n",
              "      <td>5.338539</td>\n",
              "      <td>1.0</td>\n",
              "      <td>5.250</td>\n",
              "      <td>9.5</td>\n",
              "      <td>13.750</td>\n",
              "      <td>18.0</td>\n",
              "    </tr>\n",
              "    <tr>\n",
              "      <th>Price Index</th>\n",
              "      <td>18.0</td>\n",
              "      <td>99.894444</td>\n",
              "      <td>21.436485</td>\n",
              "      <td>52.6</td>\n",
              "      <td>86.675</td>\n",
              "      <td>103.2</td>\n",
              "      <td>117.100</td>\n",
              "      <td>126.6</td>\n",
              "    </tr>\n",
              "    <tr>\n",
              "      <th>Movement</th>\n",
              "      <td>18.0</td>\n",
              "      <td>5.000000</td>\n",
              "      <td>8.849792</td>\n",
              "      <td>-5.2</td>\n",
              "      <td>-0.300</td>\n",
              "      <td>4.0</td>\n",
              "      <td>5.775</td>\n",
              "      <td>32.5</td>\n",
              "    </tr>\n",
              "  </tbody>\n",
              "</table>\n",
              "</div>"
            ],
            "text/plain": [
              "             count       mean        std   min     25%    50%      75%    max\n",
              "ID_Stamp      18.0   9.500000   5.338539   1.0   5.250    9.5   13.750   18.0\n",
              "Price Index   18.0  99.894444  21.436485  52.6  86.675  103.2  117.100  126.6\n",
              "Movement      18.0   5.000000   8.849792  -5.2  -0.300    4.0    5.775   32.5"
            ]
          },
          "metadata": {
            "tags": []
          },
          "execution_count": 127
        }
      ]
    }
  ]
}